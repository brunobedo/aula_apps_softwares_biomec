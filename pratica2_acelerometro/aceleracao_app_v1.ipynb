{
 "cells": [
  {
   "cell_type": "code",
   "execution_count": 2,
   "metadata": {},
   "outputs": [],
   "source": [
    "import numpy as np\n",
    "import pandas as pd\n",
    "from scipy.signal import find_peaks\n",
    "import matplotlib.pyplot as plt"
   ]
  },
  {
   "cell_type": "code",
   "execution_count": 18,
   "metadata": {},
   "outputs": [
    {
     "name": "stdout",
     "output_type": "stream",
     "text": [
      "       time     gFx     gFy     gFz    TgF\n",
      "0  0.003034 -0.0648  0.1569  1.0266  1.041\n",
      "1  0.003481 -0.0649  0.1573  1.0352  1.049\n",
      "2  0.004452 -0.0612  0.1565  1.0380  1.051\n",
      "3  0.010932 -0.0883  0.1505  1.0353  1.050\n",
      "4  0.014261 -0.0758  0.1535  1.0248  1.039\n"
     ]
    }
   ],
   "source": [
    "acc = pd.read_csv('D:/Desktop/Aula - Institudo Máximo/aquivos_pratica/kinovea/cinematica_linear_pratica2/acc1.csv', sep=';', decimal=',')\n",
    "print(acc.head())"
   ]
  },
  {
   "cell_type": "code",
   "execution_count": 20,
   "metadata": {},
   "outputs": [
    {
     "data": {
      "image/png": "[encoded data removed]",
      "text/plain": [
       "<Figure size 432x288 with 1 Axes>"
      ]
     },
     "metadata": {
      "needs_background": "light"
     },
     "output_type": "display_data"
    }
   ],
   "source": [
    "plt.plot(acc['time'], acc['TgF'])\n",
    "plt.grid()\n",
    "plt.show()"
   ]
  },
  {
   "cell_type": "code",
   "execution_count": 22,
   "metadata": {},
   "outputs": [
    {
     "name": "stdout",
     "output_type": "stream",
     "text": [
      "3.937446\n",
      "4.135414\n"
     ]
    }
   ],
   "source": [
    "pmax = acc['TgF'].max()\n",
    "tpmax = acc['TgF'].idxmax()\n",
    "idxi = acc['TgF'].iloc[:tpmax].idxmin()\n",
    "tf = acc['time'][tpmax]\n",
    "ti = acc['time'][idxi]\n",
    "print(ti)\n",
    "print(tf)"
   ]
  },
  {
   "cell_type": "code",
   "execution_count": 23,
   "metadata": {},
   "outputs": [
    {
     "name": "stdout",
     "output_type": "stream",
     "text": [
      "0.19796799999999992 segundos\n"
     ]
    }
   ],
   "source": [
    "tv = tf - ti\n",
    "print(f'{tv} segundos')"
   ]
  },
  {
   "cell_type": "code",
   "execution_count": 24,
   "metadata": {},
   "outputs": [
    {
     "name": "stdout",
     "output_type": "stream",
     "text": [
      "0.04805836721567996 metros\n"
     ]
    }
   ],
   "source": [
    "altura = (9.81 * tv**2) / 8\n",
    "print(f'{altura} metros')"
   ]
  },
  {
   "cell_type": "code",
   "execution_count": null,
   "metadata": {},
   "outputs": [],
   "source": []
  }
 ],
 "metadata": {
  "interpreter": {
   "hash": "72b627e1e57029ec66ca9ac786bcaa68a955854e928fd1a3f6e1adde8b9f9766"
  },
  "kernelspec": {
   "display_name": "Python 3.7.11 64-bit ('bruno': conda)",
   "language": "python",
   "name": "python3"
  },
  "language_info": {
   "codemirror_mode": {
    "name": "ipython",
    "version": 3
   },
   "file_extension": ".py",
   "mimetype": "text/x-python",
   "name": "python",
   "nbconvert_exporter": "python",
   "pygments_lexer": "ipython3",
   "version": "3.7.11"
  },
  "orig_nbformat": 4
 },
 "nbformat": 4,
 "nbformat_minor": 2
}
